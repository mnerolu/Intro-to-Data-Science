{
 "cells": [
  {
   "cell_type": "markdown",
   "id": "d56dbd24-7b7a-4332-bb9c-4e6ff9cc5782",
   "metadata": {},
   "source": [
    "# $\\color{purple}{\\text{Python Basics and Jupyter Notebook}}$\n",
    "$\\textbf{-- Dr. Meenakshi Nerolu}$\n",
    "## $\\color{blue}{\\text{Jupyter Notebook}}$\n",
    "* $\\color{green}{\\text{Jupyter Introduction}}$\n",
    "* $\\color{green}{\\text{Cell Menu}}$\n",
    "* $\\color{green}{\\text{Restarting the Kernels}}$  "
   ]
  },
  {
   "cell_type": "markdown",
   "id": "a5c6049b-f81d-4f31-a253-4c9e6b24182d",
   "metadata": {},
   "source": [
    "## $\\color{green}{\\text{Jupyter Introduction}}$\r\n"
   ]
  },
  {
   "cell_type": "markdown",
   "id": "23b6c553-ad43-4b89-988f-6c77b2271990",
   "metadata": {},
   "source": [
    "### $\\color{purple}{\\text{What is a Jupyter Notebook?}}$\n",
    "\n",
    "In this section, you will be introduced to Jupyter notebooks. A $\\textit{Jupyter notebook}$ is an application that can run Python code, display plots, show equations and contain formatted text.  Jupyter notebooks run in a web browser like Firefox or Google Chrome. Jupyter notebooks are a great tool for problem solvers to write, run, document and share Python code with others."
   ]
  },
  {
   "cell_type": "markdown",
   "id": "4dd4f95e-abec-4da4-92e5-467638c2c6ca",
   "metadata": {},
   "source": [
    "By the end of this section, you will be able to:\n",
    "\n",
    "* Explain what a Jupyter notebook is\n",
    "* Open a Jupyter notebook\n",
    "* Write Python code in a Jupyter notebook\n",
    "* Run Python code in a Jupyter notebook\n",
    "* Write and render markdown text in a Jupyter notebook\n",
    "* Save and close a Jupyter notebook\n",
    "* Download Jupyter notebooks in different file formats"
   ]
  },
  {
   "cell_type": "markdown",
   "id": "ad5857ff-e830-4555-9652-085b10d24dc2",
   "metadata": {},
   "source": [
    "First and foremost, the Jupyter Notebook is an interactive environment for writing and running code. The notebook is capable of running code in a wide range of languages. However, each notebook is associated with a single kernel.  This notebook is associated with the IPython kernel, therefor runs Python code."
   ]
  },
  {
   "cell_type": "markdown",
   "id": "3e18c21c-c358-412e-8f9f-9ca3a0692075",
   "metadata": {},
   "source": [
    "### $\\color{purple}{\\text{What is a Jupyter Notebook?}}$"
   ]
  },
  {
   "cell_type": "markdown",
   "id": "c9956267-e7d1-46c9-ad34-7f18db85c615",
   "metadata": {},
   "source": [
    "There is a vast array of editors and IDE’s (Integrated Development Environments) which can be used to edit and run Python code. Why should problem solvers learn to use Jupyter notebooks? A Jupyter notebook is neither a simple text editor nor a full-featured IDE. Jupyter notebooks provide a quick and streamlined way for problem-solvers to prototype code and quickly share code."
   ]
  },
  {
   "cell_type": "markdown",
   "id": "40cee721-102a-4b5c-97a9-f99877ccbd6b",
   "metadata": {},
   "source": [
    "In the context of problem-solving, Jupyter notebooks are quite handy. Jupyter notebooks open quickly and quickly produce output. Data exploration, data cleaning, and plot building are accomplished in Jupyter notebooks easier and quicker than in a text editor or an IDE."
   ]
  },
  {
   "cell_type": "markdown",
   "id": "287eaf95-fb5e-47d7-91c2-7b9827f51d4d",
   "metadata": {},
   "source": [
    "In the context of sharing solutions to problems, Jupyter notebooks are also useful. Markdown cells render text in different sizes, bold and italic. Tables and images, plots and code can all be shown together in the same Jupyter notebook. Notebooks can be exported to a variety of formats including $\\textit{.html}$ and $\\textit{.pdf}$."
   ]
  },
  {
   "cell_type": "markdown",
   "id": "c8271a8e-bec0-41df-be26-63cf826f93ea",
   "metadata": {},
   "source": [
    "### $\\color{purple}{\\text{The Jupyter Notebook Interface}}$"
   ]
  },
  {
   "cell_type": "markdown",
   "id": "564eb782-5a77-4103-b396-ef755cbb4377",
   "metadata": {},
   "source": [
    "When a new Jupyter notebook opens, you will see the Jupyter notebook interface. Across the top of the notebook you see the Jupyter icon and the notebook name. You can click on the notebook name field and change the name of the notebook. Note that the file extension `.ipynb` is not printed in the file name field, but if you look in the Home tab, you will see that the notebook is saved with the `.ipynb` extension.\n",
    "\n"
   ]
  },
  {
   "cell_type": "markdown",
   "id": "96ec8201-ce27-45a9-a21f-9c1c6e74ca56",
   "metadata": {},
   "source": [
    "## $\\color{green}{\\text{Cell Menu}}$"
   ]
  },
  {
   "cell_type": "markdown",
   "id": "f0dcfa33-edc3-41d0-a948-5893e814a0c8",
   "metadata": {},
   "source": [
    "### $\\color{purple}{\\text{Menus and Buttons}}$"
   ]
  },
  {
   "cell_type": "markdown",
   "id": "9cc18d37-5312-4575-9478-f4dffaaef26a",
   "metadata": {},
   "source": [
    "A Jupyter notebook is comprised of a bunch of cells which are arrayed one after another in boxes below the menu items and buttons. Jupyter notebooks contain three types of cells: $\\textit{code cells, output cells, and markdown cells.}$\n",
    "\n",
    "$\\textbf{Code cells:}$ Lines of Python code are run in code cells.\n",
    "\n",
    "$\\textbf{Output cells:}$ The output from running the code cells is also shown in output cells. Charts, plots, command line output, and images can all be shown in Jupyter notebooks as well.\n",
    "\n",
    "$\\textbf{Markdown cells:}$ Contain text-like descriptions of what will happens in subsequent code cells. Markdown cells can also contain images and links."
   ]
  },
  {
   "cell_type": "markdown",
   "id": "a649ddb7-9785-44f5-9d76-004a1c9fa514",
   "metadata": {},
   "source": [
    "### $\\color{purple}{\\text{Code Cells}}$"
   ]
  },
  {
   "cell_type": "markdown",
   "id": "390c2f50-5066-4abc-a2bb-df5d7ac72500",
   "metadata": {},
   "source": [
    "In code cells, you can write Python code, then execute the Python code and see the resulting output. An example of a code cell is shown below."
   ]
  },
  {
   "cell_type": "markdown",
   "id": "3b2ebd73-431e-42e5-8f9a-0b888268494e",
   "metadata": {},
   "source": [
    "![Sample Image](1.png)"
   ]
  },
  {
   "cell_type": "markdown",
   "id": "1dba385d-b8f5-433a-9d9e-2f15c4f43a53",
   "metadata": {},
   "source": [
    "To run the Python code in a code cell push the `Run` button or type `Shift-Enter`. Hitting `Enter` when the cursor is inside a code cell brings the cursor down to a new line."
   ]
  },
  {
   "cell_type": "markdown",
   "id": "cbc13615-e5df-4e20-8c83-bdb72effdd8a",
   "metadata": {},
   "source": [
    "![Sample Image](2.png)"
   ]
  },
  {
   "cell_type": "markdown",
   "id": "1fc39ab4-715b-4aa9-89c2-5d7848c632e1",
   "metadata": {},
   "source": [
    "There are two other keyboard shortcuts for running code:\n",
    "\n",
    "* `Alt-Enter` runs the current cell and inserts a new one below.\n",
    "* `Ctrl-Enter` run the current cell and enters command mode."
   ]
  },
  {
   "cell_type": "markdown",
   "id": "06b36dd8-45bd-4b14-887b-779d07a92157",
   "metadata": {},
   "source": [
    "### $\\color{purple}{\\text{Output Cells}}$"
   ]
  },
  {
   "cell_type": "markdown",
   "id": "b9d69805-f13d-4db7-a9b0-b6a52ce9eb84",
   "metadata": {},
   "source": [
    "After a code cell is run, an output cell can be produced below the code cell. The output cell contains the output from the code cell above it. Not all code produces output, so not all code cells produce output cells. The results in output cells can’t be edited. If a code cell produces plots, charts or images, these outputs are shown in output cells."
   ]
  },
  {
   "cell_type": "markdown",
   "id": "95f78dee-44ab-4ba0-ad79-cf783e02161e",
   "metadata": {},
   "source": [
    "![Sample Image](3.png)"
   ]
  },
  {
   "cell_type": "markdown",
   "id": "4d963d45-f587-4f75-8885-96e81e0c6194",
   "metadata": {},
   "source": [
    "### $\\color{purple}{\\text{Markdown Cells}}$"
   ]
  },
  {
   "cell_type": "markdown",
   "id": "87114e0d-f46d-4815-ba95-f94e528b9687",
   "metadata": {},
   "source": [
    "Markdown cells don’t contain Python code. Markdown cells contain text written in Markdown format. Text in markdown cells can be formatted to show bold or italic text. Tables, images, and lists can also be included in markdown cells."
   ]
  },
  {
   "cell_type": "markdown",
   "id": "fd58edee-4864-444a-9bc5-1a2ebbb5a4c8",
   "metadata": {},
   "source": [
    "![Sample Image](4.png)"
   ]
  },
  {
   "cell_type": "markdown",
   "id": "2e0f0aa9-0fcd-48fe-aa4a-db8c526c5125",
   "metadata": {},
   "source": [
    "Markdown cells are used for documentation and explaining your code. The text in a Markdown cell is not executed. Markdown cells can be formatted with a few special characters.\n",
    "\n",
    "Markdown cells are run similarly to code cells, but the difference is that when Markdown cells are run, the text is formatted, whereas code cells execute code. Markdown cells can be run by clicking the [Run] button or by pressing [Shift] + [Enter].\n",
    "\n",
    "Text in Markdown cells can be formatted using Markdown syntax. For example, placing an underscore before and after a word will format the word in italics."
   ]
  },
  {
   "cell_type": "markdown",
   "id": "86539342-76e5-4a85-99bb-5f88fbb6e8f8",
   "metadata": {},
   "source": [
    "## $\\color{green}{\\text{Restarting the Kernels}}$  \n",
    "\n",
    "You can clear all the output cells and re-run code cells by selecting [Kernal] –> [Restart Kernal and Clear Output]."
   ]
  },
  {
   "cell_type": "markdown",
   "id": "35499bbb-ba88-4de8-a6be-689f2d0f57b5",
   "metadata": {},
   "source": [
    "![Sample Image](5.png)"
   ]
  },
  {
   "cell_type": "code",
   "execution_count": null,
   "id": "7c3f8e76-a36c-429b-991a-8fdf91076a83",
   "metadata": {},
   "outputs": [],
   "source": []
  }
 ],
 "metadata": {
  "kernelspec": {
   "display_name": "Python 3 (ipykernel)",
   "language": "python",
   "name": "python3"
  },
  "language_info": {
   "codemirror_mode": {
    "name": "ipython",
    "version": 3
   },
   "file_extension": ".py",
   "mimetype": "text/x-python",
   "name": "python",
   "nbconvert_exporter": "python",
   "pygments_lexer": "ipython3",
   "version": "3.12.4"
  }
 },
 "nbformat": 4,
 "nbformat_minor": 5
}
