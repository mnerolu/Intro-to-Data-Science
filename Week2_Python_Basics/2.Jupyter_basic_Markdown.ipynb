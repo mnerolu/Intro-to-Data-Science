{
 "cells": [
  {
   "cell_type": "markdown",
   "id": "8ea4811e-060e-40a8-ac28-23de6fd92645",
   "metadata": {},
   "source": [
    "# $\\color{purple}{\\text{Python Basics and Jupyter Notebook}}$\n",
    "$\\textbf{-- Dr. Meenakshi Nerolu}$\n",
    "## $\\color{blue}{\\text{Jupyter Notebook: Markdown Cells and Markdown Basics}} $"
   ]
  },
  {
   "cell_type": "markdown",
   "id": "86628cea-835d-4195-afa7-8ed6b4ebf969",
   "metadata": {},
   "source": [
    "# $\\color{green}{\\text{What is Markdown?}}$"
   ]
  },
  {
   "cell_type": "markdown",
   "id": "5f8c6a2c-03ab-4646-8710-204213288dcd",
   "metadata": {},
   "source": [
    "`Markdown` is a human readable syntax (also referred to as a markup language) for formatting text documents. `Markdown` can be used to produce nicely formatted documents including PDFs and web pages."
   ]
  },
  {
   "cell_type": "markdown",
   "id": "57717157-c56b-4719-97bd-47388531b56e",
   "metadata": {},
   "source": [
    "When you format text using `Markdown` in a document, it is similar to using the format tools (e.g. bold, heading 1, heading 2) in a word processing tool like Microsoft Word or Google Docs. However, instead of using buttons to apply formatting, you use syntax such as `**this syntax bolds text in markdown**` or `# Here is a heading`"
   ]
  },
  {
   "cell_type": "markdown",
   "id": "9707770b-5899-4d10-a9b5-0eb0907bd837",
   "metadata": {},
   "source": [
    "`Markdown` syntax allows you to format text in many ways, such as making headings, bolding and italicizing words, creating bulleted lists, adding links, formatting mathematical symbols and making tables. These options allow you to format text in visually appealing and organized ways to present your ideas."
   ]
  },
  {
   "cell_type": "markdown",
   "id": "c6e62772-cfa1-44a3-9803-22288818bdd5",
   "metadata": {},
   "source": [
    "## $\\color{green}{\\text{Markdown in Jupyter Notebook}}$"
   ]
  },
  {
   "cell_type": "markdown",
   "id": "1ebfd21a-39b7-4bea-a375-86657368e0d7",
   "metadata": {},
   "source": [
    "A great benefit of `Jupyter Notebook` is that it allows you to combine both code (e.g. `Python`) and `Markdown` in one document, so that you can easily document your workflows. \n",
    "\n",
    "A `Jupyter Notebook` file uses cells to organize content, and it can contain both cells that render text written using the `Markdown` syntax as well as cells that contain and run `Python` code. \n",
    "\n",
    "Thus, you can use a combination of `Markdown` and `Python` code cells to organize and document your `Jupyter Notebook` for others to easily read and follow your workflow."
   ]
  },
  {
   "cell_type": "markdown",
   "id": "8744d05c-f677-4fab-a8f2-61ffa855a10b",
   "metadata": {},
   "source": [
    "Note: if you type text in a `Markdown` cell with no additional syntax, the text will appear as regular paragraph text. You can add additional syntax to that text to format it in different ways. \n",
    "\n",
    "On this page, you will learn basic `Markdown` syntax that you can use to format text in Jupyter Notebook files."
   ]
  },
  {
   "cell_type": "markdown",
   "id": "218b81b5-1f01-45b2-9e0d-4aeeb999de16",
   "metadata": {},
   "source": [
    "### $\\color{green}{\\text{Simple Text}}$\n",
    "\n",
    "Type your text: Just type your text as you would normally"
   ]
  },
  {
   "cell_type": "markdown",
   "id": "ed8b9669-3932-4548-9d9d-c885a0c2f6ca",
   "metadata": {},
   "source": [
    "### $\\color{green}{\\text{Formatted Text} (Bold and Italics)}$\n",
    "\n",
    "**Bold Text**: Use double asterisks ** or double underscores __ around the text (`**This is Bold text.**`)\n",
    "\n",
    "**Italic Text**: Use single asterisk * or single underscore _ around the text  (`*This is italic text.*`)\n",
    "\n",
    "Bold and italic font is displayed by surrounding text with a double asterisk/underscores for `**bold**` and a single underscore/asterisk for `_italics_`.\n",
    "\n",
    "`**bold**` produces **bold**.\n",
    "\n",
    "`_italics_` produces _italics_.\n",
    "\n",
    "`**_bold and italic_**` produces **_bold and italic_**.\n",
    "\n"
   ]
  },
  {
   "cell_type": "markdown",
   "id": "ac178eec-5397-4437-9e97-ab90e636c242",
   "metadata": {},
   "source": [
    "### $\\color{green}{\\text{Section Headers}}$"
   ]
  },
  {
   "cell_type": "markdown",
   "id": "2814499f-c896-4f18-be9a-5c808a3afec5",
   "metadata": {},
   "source": [
    "You can create a heading using the hash symbol (`#`) sign. For the headers to render properly, there must be a space between the `#` and the header text.\n",
    "\n",
    "Heading one is denoted using one `#` sign, heading two is denoted using two `##` signs, etc, as follows:"
   ]
  },
  {
   "cell_type": "markdown",
   "id": "32bbc63f-c93f-45be-ad54-7b1dd540a9b8",
   "metadata": {},
   "source": [
    "`# Heading One`\n",
    "\n",
    "`## Heading Two`\n",
    "\n",
    "`### Heading Three`\n",
    "\n",
    "`#### Heading Four`\n",
    "\n",
    "One `#` is the largest heading. Four hashes `####` is the smallest heading."
   ]
  },
  {
   "cell_type": "markdown",
   "id": "bcb9efad-6011-4399-8583-7ec21e1ca77c",
   "metadata": {},
   "source": [
    "$\\color{blue}{\\text{Here is a sample of the rendered}}$ `Markdown`:\n",
    "\n",
    "### $\\color{blue}{\\text{Heading Two}}$\n",
    "\n",
    "### $\\color{blue}{\\text{Heading Three}}$\n",
    "\n",
    "#### $\\color{blue}{\\text{Heading Four}}$\n"
   ]
  },
  {
   "cell_type": "markdown",
   "id": "9cc1de14-e89c-4a81-a7be-bbce79c90aec",
   "metadata": {},
   "source": [
    "### $\\color{green}{\\text{Code Blocks}}$\n",
    "\n",
    "Code blocks can be inserted in Jupyter notebook markdown cells. For inline code blocks use the ` left quote character, the character to the left of the number [1] and above [Tab] on most keyboards.\n",
    "\n",
    "**Inline Code:** Use backticks ``` around the text.\n",
    "\n",
    "This is inline code: ` ` ` Inline code block ` ` ` within a paragraph.\n",
    "\n",
    "\n",
    "```\n",
    "\n",
    "Separated code block\n",
    "\n",
    "```\n",
    "\n",
    "The code in markdown cell code blocks do not execute when the markdown cell is run. A code block in a markdown cell is formatted when the markdown cell executes."
   ]
  },
  {
   "cell_type": "markdown",
   "id": "9630843d-8a0d-43fc-af59-b8a07660d205",
   "metadata": {},
   "source": [
    "### $\\color{green}{\\text{Bullet Points and Lists}}$"
   ]
  },
  {
   "cell_type": "markdown",
   "id": "49c2f198-c48b-4cf9-9e44-56a691d36f06",
   "metadata": {},
   "source": [
    "**Bullet Points**: Use asterisks *, pluses +, or hyphens - followed by a space.\n",
    "You can use `Markdown` to create lists using the following syntax:"
   ]
  },
  {
   "cell_type": "markdown",
   "id": "cdbc73a8-84fc-4522-9265-9da73069a4b4",
   "metadata": {},
   "source": [
    "```\n",
    "* This is a bullet list\n",
    "* This is a bullet list\n",
    "* This is a bullet list\n",
    "1. And you can also create ordered lists\n",
    "2. by using numbers\n",
    "3. and listing new items in the lists\n",
    "4. on their own lines\n",
    "```"
   ]
  },
  {
   "cell_type": "markdown",
   "id": "2616bcd6-569f-43e7-8582-87d260c32f8a",
   "metadata": {},
   "source": [
    "It will render as follows:\n",
    "* This is a bullet list\n",
    "* This is a bullet list\n",
    "* This is a bullet list\n",
    "1. And you can also create ordered lists\n",
    "2. by using numbers\n",
    "3. and listing new items in the lists\n",
    "4. on their own lines\r\n"
   ]
  },
  {
   "cell_type": "markdown",
   "id": "0677cb86-38f7-40d1-8392-da50c0c90cf3",
   "metadata": {},
   "source": [
    "#### Changing the color of the text:\n",
    "This is normal text, and <span style=\"color:green\">this text is green</span>."
   ]
  },
  {
   "cell_type": "markdown",
   "id": "19daeb72-1188-4c78-ad09-a08c1bec8d9d",
   "metadata": {},
   "source": [
    "### $\\color{green}{\\text{Hyperlinks}}$\n",
    "\n",
    "**Links:** Use square brackets `[]` for the link text and parentheses `()` for the URL.\n",
    "\n",
    "(The code looks like this : `[Click here to visit Google](https://www.google.com)`)\n",
    "\n",
    "[Click here to visit Google](https://www.google.com)"
   ]
  },
  {
   "cell_type": "markdown",
   "id": "4e536ac7-ae19-4f1c-8dc6-ae7283d48b9b",
   "metadata": {},
   "source": [
    "### $\\color{green}{\\text{Horizontal Line}}$\n",
    "\n",
    "**Horizontal Line:** Use three or more hyphens  `---`  or asterisks `***` on a new line.\n",
    "\n",
    "---\n",
    "Here is a horizontal line.\n",
    "***"
   ]
  },
  {
   "cell_type": "markdown",
   "id": "d1f7af6c-72bd-478d-9170-c65591067015",
   "metadata": {},
   "source": [
    "### $\\color{green}{\\text{Images}}$\n",
    "\n",
    "Images are embedded in Jupyter Notebook markdown using the exclamation point and square brackets `![ ]`, followed by the image file path in parenthesis `( )`. If the image can not be displayed, the text in square brackets will be shown. The image can be in the same directory as the notebook, or a relative path can be specified. In this case, the image `python.png` is stored in the images directory, which is a subdirectory of the directory the notebook is saved in.\n",
    "\n",
    "Syntax: `![Python](python.png)` which displays the image:\n",
    "\n",
    "![Python](python.png)"
   ]
  },
  {
   "cell_type": "markdown",
   "id": "87609774-dab2-450f-8b63-0bbf37f5880d",
   "metadata": {},
   "source": [
    "## $\\color{green}{\\text{More about Jupyter Notebook}}$  \n",
    "\n",
    "#### $\\color{purple}{\\text{Creating a New Cell}}$  \n",
    "You can create a new cell in a Jupyter Notebook by clicking the [+] button in the upper menu. Clicking the [+] button produces a new code cell below the active cell. You can also create a new cell using `Insert –> Insert Cell Above` or `Insert Cell Below`. You can choose to insert a cell above or below the active cell.\n",
    "\n",
    "#### $\\color{purple}{\\text{Changing the cell type}}$  \n",
    "The type of cell: code cell or markdown cell, is changed by clicking on a cell and selecting the cell type from the drop-down menu. Typing [Esc] + [m] changes the cell type to a markdown cell. Typing [Esc] + [y] changes the cell type to a code cell.\n",
    "\n",
    "#### $\\color{purple}{\\text{Saving a Jupyter Notebook}}$  \n",
    "Jupyter notebooks can be saved using the save icon in the upper menu or by pressing [Ctrl] + [s].\n",
    "Jupyter notebooks can also be saved as a copy, similar to the Save As command common in many programs. To save a copy of a Jupyter notebook use `File –> Make a Copy…`\n",
    "\n",
    "#### $\\color{purple}{\\text{Renaming a Jupyter Notebook}}$  \n",
    "Jupyter notebooks are renamed by clicking on the notebook name above the upper menu and typing a new name into the dialog box.\n",
    "\n",
    "#### $\\color{purple}{\\text{Downloading a Jupyter Notebook}}$  \n",
    "Jupyter notebooks can be downloaded and saved using `File –> Download As –> Notebook (.ipynb)`. Selecting this menu option will download the notebook as a `.ipynb` file.\n",
    "\n",
    "#### $\\color{purple}{\\text{Saving Jupyter Notebooks in Other Formats}}$  \n",
    "Jupyter notebooks can be saved in other formats besides the native `.ipynb` format. These formats can be accessed using the `[File] –> [Download As]` menu.\n",
    "The available file download types are:\n",
    "* Notebook (.ipynb) - The native jupyter notebook format\n",
    "* Python (.py) - The native Python code file type.\n",
    "* HTML (.html) - A web page\n",
    "* Markdown (.md) - Markdown format\n",
    "* reST (.rst) - Restructured text format\n",
    "* LaTeX (.tex) - LaTeX Article format\n",
    "* PDF via LaTeX (.pdf) - a pdf exported from LaTeX, requires a converter"
   ]
  },
  {
   "cell_type": "code",
   "execution_count": null,
   "id": "45a5377e-992a-4de2-8647-84083a26e69c",
   "metadata": {},
   "outputs": [],
   "source": []
  },
  {
   "cell_type": "code",
   "execution_count": null,
   "id": "c62405c6-58ef-4319-b6d1-9311db1fba88",
   "metadata": {},
   "outputs": [],
   "source": []
  }
 ],
 "metadata": {
  "kernelspec": {
   "display_name": "Python 3 (ipykernel)",
   "language": "python",
   "name": "python3"
  },
  "language_info": {
   "codemirror_mode": {
    "name": "ipython",
    "version": 3
   },
   "file_extension": ".py",
   "mimetype": "text/x-python",
   "name": "python",
   "nbconvert_exporter": "python",
   "pygments_lexer": "ipython3",
   "version": "3.12.4"
  }
 },
 "nbformat": 4,
 "nbformat_minor": 5
}
