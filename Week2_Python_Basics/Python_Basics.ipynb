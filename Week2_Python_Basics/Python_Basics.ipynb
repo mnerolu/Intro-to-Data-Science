{
 "cells": [
  {
   "cell_type": "markdown",
   "id": "20aaeea8-118e-46b7-a9da-90e900973464",
   "metadata": {},
   "source": [
    "# $\\color{purple}{\\text{Python Basics and Jupyter Notebook}}$\n",
    "\n",
    "$\\textbf{-- Dr. Meenakshi Nerolu}$\n",
    "\n",
    "## $\\color{blue}{\\text{Python Basics}}$\n",
    "* $\\color{green}{\\text{Python as a Calculator}}$\n",
    "    * $\\color{green}{\\text{Operations}}$\n",
    "        * Addition\n",
    "        * Subtraction\n",
    "        * Multiplication      \n",
    "        * Division\n",
    "        * Integer Division\n",
    "        * Modulus\n",
    "        * Power\n",
    "* $\\color{green}{\\text{Precedence of Arithmetic Operators in Python}}$\n",
    "* $\\color{green}{\\text{Variables}}$\n",
    "* $\\color{green}{\\text{String Operations}}$\n",
    "    * String Concatenation\n",
    "    * String Comparison\n",
    "    * String Methods\n",
    "* $\\color{green}{\\text{Print Statements}}$"
   ]
  },
  {
   "cell_type": "markdown",
   "id": "defcfdcb-af1b-4aea-bd3c-16660efd6450",
   "metadata": {},
   "source": [
    "# $\\color{green}{\\text{Python as a Calculator}}$\n",
    "\n",
    "Python can be used as a calculator to compute arithmetic operations like addition, subtraction, multiplication and division. Python can also be used for trigonometric calculations and statistical calculations.\n",
    "\n"
   ]
  },
  {
   "cell_type": "markdown",
   "id": "630c5e8a-7258-4a0c-a5ac-4bdef20951e7",
   "metadata": {},
   "source": [
    "## $\\color{green}{\\text{Operations}}$"
   ]
  },
  {
   "cell_type": "markdown",
   "id": "4b4f36b1-2c85-428f-841f-b31035abdf4f",
   "metadata": {},
   "source": [
    "Python can be used as a calculator to make simple arithmetic calculations.\n",
    "\n"
   ]
  },
  {
   "cell_type": "code",
   "execution_count": 1,
   "id": "4f602c90-8f9d-445e-a7c0-b33f493a8898",
   "metadata": {},
   "outputs": [
    {
     "data": {
      "text/plain": [
       "8"
      ]
     },
     "execution_count": 1,
     "metadata": {},
     "output_type": "execute_result"
    }
   ],
   "source": [
    "# Addition: adds two operands\n",
    "5+3"
   ]
  },
  {
   "cell_type": "code",
   "execution_count": 2,
   "id": "f57efb0d-7c4a-4e14-b8d2-48abe8385b1f",
   "metadata": {},
   "outputs": [
    {
     "data": {
      "text/plain": [
       "-1"
      ]
     },
     "execution_count": 2,
     "metadata": {},
     "output_type": "execute_result"
    }
   ],
   "source": [
    "# Subtraction: subtracts two operands\n",
    "3-4"
   ]
  },
  {
   "cell_type": "code",
   "execution_count": 3,
   "id": "b4cd4367-27dc-432f-8886-db626fd882cc",
   "metadata": {},
   "outputs": [
    {
     "data": {
      "text/plain": [
       "12"
      ]
     },
     "execution_count": 3,
     "metadata": {},
     "output_type": "execute_result"
    }
   ],
   "source": [
    "# Multiplication : multiplies two operands\n",
    "3*4"
   ]
  },
  {
   "cell_type": "code",
   "execution_count": 4,
   "id": "9fb35035-21f3-4fb4-829c-b4ea6b305f6a",
   "metadata": {},
   "outputs": [
    {
     "data": {
      "text/plain": [
       "3.0"
      ]
     },
     "execution_count": 4,
     "metadata": {},
     "output_type": "execute_result"
    }
   ],
   "source": [
    "# Division (Division (float): divides the first operand by the second)\n",
    "15/5"
   ]
  },
  {
   "cell_type": "code",
   "execution_count": 5,
   "id": "e24d1e13-5772-4e37-9672-55f9d6b0972e",
   "metadata": {},
   "outputs": [
    {
     "data": {
      "text/plain": [
       "6.5"
      ]
     },
     "execution_count": 5,
     "metadata": {},
     "output_type": "execute_result"
    }
   ],
   "source": [
    "# Division\n",
    "13/2"
   ]
  },
  {
   "cell_type": "code",
   "execution_count": 6,
   "id": "f73c1b02-7367-402a-b3fa-83a9c55b9598",
   "metadata": {},
   "outputs": [
    {
     "data": {
      "text/plain": [
       "0.75"
      ]
     },
     "execution_count": 6,
     "metadata": {},
     "output_type": "execute_result"
    }
   ],
   "source": [
    "# Division\n",
    "3/4"
   ]
  },
  {
   "cell_type": "code",
   "execution_count": 7,
   "id": "60f5e70c-e566-4451-a014-69eb290ed82b",
   "metadata": {},
   "outputs": [
    {
     "data": {
      "text/plain": [
       "0"
      ]
     },
     "execution_count": 7,
     "metadata": {},
     "output_type": "execute_result"
    }
   ],
   "source": [
    "# Integer Division (Division (floor): divides the first operand by the second)\n",
    "3//4"
   ]
  },
  {
   "cell_type": "code",
   "execution_count": 8,
   "id": "ea95d298-548b-432a-b4b1-12d12f5bf1f4",
   "metadata": {},
   "outputs": [
    {
     "data": {
      "text/plain": [
       "1"
      ]
     },
     "execution_count": 8,
     "metadata": {},
     "output_type": "execute_result"
    }
   ],
   "source": [
    "# Integer Division\n",
    "4//3"
   ]
  },
  {
   "cell_type": "code",
   "execution_count": 9,
   "id": "cc5766a1-3b07-4ef0-88fd-0e3ef479fcc2",
   "metadata": {},
   "outputs": [
    {
     "data": {
      "text/plain": [
       "3"
      ]
     },
     "execution_count": 9,
     "metadata": {},
     "output_type": "execute_result"
    }
   ],
   "source": [
    "#Modules\n",
    "13%5"
   ]
  },
  {
   "cell_type": "code",
   "execution_count": 10,
   "id": "f6899ea8-c559-4386-8e0e-1418d22540f1",
   "metadata": {},
   "outputs": [
    {
     "data": {
      "text/plain": [
       "0"
      ]
     },
     "execution_count": 10,
     "metadata": {},
     "output_type": "execute_result"
    }
   ],
   "source": [
    "#Modules - returns the remainder when the first operand is divided by the second\n",
    "12%2"
   ]
  },
  {
   "cell_type": "code",
   "execution_count": 11,
   "id": "a8ab0f83-a17c-40ea-ba8d-201d7d2940bc",
   "metadata": {},
   "outputs": [
    {
     "data": {
      "text/plain": [
       "0"
      ]
     },
     "execution_count": 11,
     "metadata": {},
     "output_type": "execute_result"
    }
   ],
   "source": [
    "#Modules\n",
    "14%2"
   ]
  },
  {
   "cell_type": "code",
   "execution_count": 12,
   "id": "33179dc7-f9a9-4fb6-8462-31a433c05f52",
   "metadata": {},
   "outputs": [
    {
     "data": {
      "text/plain": [
       "2"
      ]
     },
     "execution_count": 12,
     "metadata": {},
     "output_type": "execute_result"
    }
   ],
   "source": [
    "#Modulus\n",
    "-13%5"
   ]
  },
  {
   "cell_type": "code",
   "execution_count": 13,
   "id": "97cfd5d6-9301-4a2e-9274-5a0301d2be34",
   "metadata": {},
   "outputs": [
    {
     "data": {
      "text/plain": [
       "8"
      ]
     },
     "execution_count": 13,
     "metadata": {},
     "output_type": "execute_result"
    }
   ],
   "source": [
    "# Power (Exponent): Returns first raised to power second\n",
    "2**3"
   ]
  },
  {
   "cell_type": "markdown",
   "id": "d607d373-15da-43ca-8988-c9b8972aa00d",
   "metadata": {},
   "source": [
    "In a Jupyter Notebook, `2^3` does not represent exponentiation (raising 2 to the power of 3). Instead, it performs a bitwise XOR (exclusive OR) operation between the numbers 2 and 3.\n",
    "\n",
    "* Why 1?:\n",
    "\n",
    "    * The binary representation of 2 is 10.\n",
    "\n",
    "    * The binary representation of 3 is 11.\n",
    "\n",
    "* XOR operation:\n",
    "\n",
    "    * 10 (binary for 2)\n",
    "\n",
    "    * 11 (binary for 3)\n",
    "\n",
    "Result: 01 (binary for 1)"
   ]
  },
  {
   "cell_type": "markdown",
   "id": "50eda6a9-39ec-4eca-94b9-31a2f1dc1a2f",
   "metadata": {},
   "source": [
    "## $\\color{green}{\\text{Precedence of Arithmetic Operators in Python}}$"
   ]
  },
  {
   "cell_type": "markdown",
   "id": "6dc75eca-6957-4f20-bda8-ef8a8732138d",
   "metadata": {},
   "source": [
    "The precedence of Arithmetic Operators in Python is as follows:\n",
    "\n",
    "1. P: Parenthesis\n",
    "2. E: Exponential\n",
    "3. M: Multiplication (Multiplication and Division have the same precedence)\n",
    "4. D: Division\n",
    "5. A: Addition (Addition and Subtarction have the same precedence)\n",
    "6. S: Subtraction"
   ]
  },
  {
   "cell_type": "markdown",
   "id": "154b1d39-dffd-4f61-a2fe-f6abbdbdcef3",
   "metadata": {},
   "source": [
    "For Example: how do you calculate $3+2\\times 2^2/2-1$ manually and what is your answer?"
   ]
  },
  {
   "cell_type": "code",
   "execution_count": 14,
   "id": "9fc2b895-075f-4a15-b17f-d791c775ac3f",
   "metadata": {},
   "outputs": [
    {
     "data": {
      "text/plain": [
       "6.0"
      ]
     },
     "execution_count": 14,
     "metadata": {},
     "output_type": "execute_result"
    }
   ],
   "source": [
    "# Here is the Python output:\n",
    "3+2*2**2/2-1\n",
    "\n",
    "# Explanation: 3 + ((2 * (2 ** 2)) / 2) - 1\n",
    "#              3 + ((2 * 4) / 2) - 1\n",
    "#              3 + (8 / 2) - 1\n",
    "#              3 + 4 - 1\n",
    "#              7 - 1\n",
    "#              6.0"
   ]
  },
  {
   "cell_type": "code",
   "execution_count": 15,
   "id": "0c739045-708c-4485-9085-be0c91704f87",
   "metadata": {},
   "outputs": [
    {
     "data": {
      "text/plain": [
       "11.0"
      ]
     },
     "execution_count": 15,
     "metadata": {},
     "output_type": "execute_result"
    }
   ],
   "source": [
    "#_ will be helpfull to use previous output. \n",
    "_+5 \n",
    "# Here the output is 11 because _ uses the previous output 6 and 5 is added to it."
   ]
  },
  {
   "cell_type": "markdown",
   "id": "7d7831e6-d016-4950-a09d-0da3b256d633",
   "metadata": {},
   "source": [
    "## $\\color{green}{\\text{Variables}}$"
   ]
  },
  {
   "cell_type": "markdown",
   "id": "83e77a7c-4c7e-47ff-898e-680429d4d1d4",
   "metadata": {},
   "source": [
    "### What are Variables in Python?"
   ]
  },
  {
   "cell_type": "markdown",
   "id": "ec263b38-cd33-44f6-8bab-267fedf37399",
   "metadata": {},
   "source": [
    "A variable in programming is used to store information that you want to re-use in your code.\n",
    "\n",
    "Examples of things that you may wish to save in your code include:\n",
    "* numeric values\n",
    "* filenames\n",
    "* paths\n",
    "* or even larger datasets such as a remote sensing image or a terrain model\n",
    "\n",
    "In $\\textbf{Python}$, variables can be created without explicitly defining the type of data that it will hold (e.g. integer, text string). Variables are assigned in Python using the `=` equals sign also called $\\textit{assignment operator}$. You can create a variable in  $\\textbf{Python}$ using the following syntax:\n",
    "\n",
    "`variable_name=value`"
   ]
  },
  {
   "cell_type": "markdown",
   "id": "53e82d1e-c750-4839-ae2d-cc679e259441",
   "metadata": {},
   "source": [
    "The statement:"
   ]
  },
  {
   "cell_type": "code",
   "execution_count": 16,
   "id": "2d94b0af-2a8f-4349-b9b9-be6adb390caf",
   "metadata": {},
   "outputs": [],
   "source": [
    "a=2"
   ]
  },
  {
   "cell_type": "markdown",
   "id": "8fd4a98b-29a4-447f-a8c1-d5ee5b657641",
   "metadata": {},
   "source": [
    "assigns the integer $\\color{blue}{2}$ to the variable $\\color{blue}{a}$."
   ]
  },
  {
   "cell_type": "markdown",
   "id": "0e9c3872-3924-4993-9351-ade053cc7e84",
   "metadata": {},
   "source": [
    "Here is an example of assigning a text string value to the same variable named `a`."
   ]
  },
  {
   "cell_type": "code",
   "execution_count": 17,
   "id": "40790080-531d-4f12-a7cc-ac6be3d4aef6",
   "metadata": {},
   "outputs": [],
   "source": [
    "a='a word'"
   ]
  },
  {
   "cell_type": "markdown",
   "id": "08606e22-ebb3-42c9-9bde-9711732719bc",
   "metadata": {},
   "source": [
    "Notice that strings (character values) use single/double quotes `''` or `\"\"` to indicate a text string value."
   ]
  },
  {
   "cell_type": "code",
   "execution_count": 18,
   "id": "3509ad6c-ac23-497e-9353-d5d91083f418",
   "metadata": {},
   "outputs": [],
   "source": [
    "#Try it out\n",
    "my_variable=5\n",
    "my_variable=5"
   ]
  },
  {
   "cell_type": "markdown",
   "id": "f3445de1-1863-4a59-9209-e678649b16a3",
   "metadata": {},
   "source": [
    "$\\textbf{Variable names in Python must conform to the following rules:}$\n",
    "\n",
    "* variable names must start with a letter\n",
    "* variable names can only contain letters, numbers, and the underscore character_\n",
    "* variable names cannot contain spaces\n",
    "* variable names cannot include punctuation\n",
    "* variable names are not closed in quotes or brackets\n",
    "\n",
    "When naming a variable, you want to keep the name short but specific enough that someone reading your code can understand what it contains. It is good practice to use underscores (e.g. `boulder_precip_in`) to create multi-word variable names that provide specifics regarding the variable’s content. The underscore makes the variable name easier to read.\n",
    "\n",
    "$\\textbf{Variables Are Available In Your Coding Environment Once Defined}$\n",
    "\r\n",
    "A key characteristic of variables is that once you create a variable in your coding environment (that is to say you run the actual line of code that defines the variable), it is available throughout your code. So for example, if you create a variable at the top of a Jupyter Notebook, the value associated with that variable will remain the same and can be reused in cells lower down in the notebook."
   ]
  },
  {
   "cell_type": "markdown",
   "id": "8bcb00d3-26af-4214-8c64-77088a1b2362",
   "metadata": {},
   "source": [
    "$\\textbf{The following code lines show invalid variable names:}$"
   ]
  },
  {
   "cell_type": "code",
   "execution_count": 19,
   "id": "09b58216-e18b-47d1-babd-62f9244e01d6",
   "metadata": {},
   "outputs": [
    {
     "ename": "SyntaxError",
     "evalue": "invalid syntax (4245069496.py, line 1)",
     "output_type": "error",
     "traceback": [
      "\u001b[1;36m  Cell \u001b[1;32mIn[19], line 1\u001b[1;36m\u001b[0m\n\u001b[1;33m    a constant = 4\u001b[0m\n\u001b[1;37m      ^\u001b[0m\n\u001b[1;31mSyntaxError\u001b[0m\u001b[1;31m:\u001b[0m invalid syntax\n"
     ]
    }
   ],
   "source": [
    "a constant = 4\n",
    "#Note: space is not allowed"
   ]
  },
  {
   "cell_type": "code",
   "execution_count": null,
   "id": "5e4b03b8-8325-4056-9119-547fab59483e",
   "metadata": {},
   "outputs": [],
   "source": [
    "123var =77\n",
    "# variable name should start with letter"
   ]
  },
  {
   "cell_type": "code",
   "execution_count": null,
   "id": "d05dd979-f46f-4183-81ff-4953312db644",
   "metadata": {},
   "outputs": [],
   "source": [
    "'Nerolu' =last_name\n",
    "#variable name should appear first"
   ]
  },
  {
   "cell_type": "markdown",
   "id": "ea51abcb-8ea2-4d9a-b314-b9aec56cb4b2",
   "metadata": {},
   "source": [
    "$\\textbf{The following code lines show valid variable names:}$"
   ]
  },
  {
   "cell_type": "code",
   "execution_count": 1,
   "id": "4ef85795-ec62-4ef1-9b67-55907f13ee28",
   "metadata": {},
   "outputs": [],
   "source": [
    "constant = 4\n",
    "\n",
    "new_variable = 'var'\n",
    "\n",
    "my2rules = ['rule1','rule2']\n",
    "\n",
    "SQUARES = 4"
   ]
  },
  {
   "cell_type": "code",
   "execution_count": 3,
   "id": "18e8556b-4e81-4a0f-b2b0-0e7049f34b67",
   "metadata": {},
   "outputs": [
    {
     "data": {
      "text/plain": [
       "4"
      ]
     },
     "execution_count": 3,
     "metadata": {},
     "output_type": "execute_result"
    }
   ],
   "source": [
    "SQUARES"
   ]
  },
  {
   "cell_type": "code",
   "execution_count": 7,
   "id": "b2dddc7e-cb80-48a5-b1cb-6d0d09fdc165",
   "metadata": {},
   "outputs": [
    {
     "data": {
      "text/plain": [
       "'rule1'"
      ]
     },
     "execution_count": 7,
     "metadata": {},
     "output_type": "execute_result"
    }
   ],
   "source": [
    "my2rules[0]"
   ]
  },
  {
   "cell_type": "markdown",
   "id": "601055dc-68a4-443e-84a7-6818fffe916c",
   "metadata": {},
   "source": [
    "## $\\color{green}{\\text{String Operations}}$"
   ]
  },
  {
   "cell_type": "markdown",
   "id": "fb36e1b7-dbae-44e7-ac05-51bba0ebde83",
   "metadata": {},
   "source": [
    "Strings are sequences of letters, numbers, punctuation, and spaces. Strings are defined at the Python by enclosing letters, numbers, punctuation, and spaces in single quotes `' '` or double quotes `\" \"`. For example,"
   ]
  },
  {
   "cell_type": "code",
   "execution_count": null,
   "id": "4919ede5-5cdd-41a4-a5d5-78f6e5e3b754",
   "metadata": {},
   "outputs": [],
   "source": [
    "word = 'Solution'\n",
    "another_word = \"another solution\"\n",
    "third_word = '3rd solution'"
   ]
  },
  {
   "cell_type": "markdown",
   "id": "36c31c1a-0019-47ce-ba2e-45db49ef7b10",
   "metadata": {},
   "source": [
    "In Python, string operations include concatenation (combining strings), logical comparisons (comparing strings) and indexing (pulling specific characters out of strings).\n",
    "\n"
   ]
  },
  {
   "cell_type": "markdown",
   "id": "606f90df-1f97-4b6a-b243-292541fba682",
   "metadata": {},
   "source": [
    "#### $\\color{brown}{\\text{String Concatenation}}$\n",
    "Strings can be concatenated or combined using the `+` operator."
   ]
  },
  {
   "cell_type": "code",
   "execution_count": null,
   "id": "682398da-dada-4b70-8423-c3c63e7293f6",
   "metadata": {},
   "outputs": [],
   "source": [
    "first_name = \"Meenakshi\"\n",
    "second_name = \"Nerolu\"\n",
    "Full_name = first_name +second_name"
   ]
  },
  {
   "cell_type": "code",
   "execution_count": null,
   "id": "106c2744-4a4a-4865-8bac-b8578cc7c15f",
   "metadata": {},
   "outputs": [],
   "source": [
    "Full_name"
   ]
  },
  {
   "cell_type": "markdown",
   "id": "6f0efc70-2bf9-430a-900e-f6fbe2fb378d",
   "metadata": {},
   "source": [
    "To include spaces in the concatenated string, add a string which just contains one space `\" \"` in between each string you combine."
   ]
  },
  {
   "cell_type": "code",
   "execution_count": null,
   "id": "113bf796-a6cd-4771-a46d-c4767688f0d9",
   "metadata": {},
   "outputs": [],
   "source": [
    "Full_name_new = first_name +\" \"+second_name"
   ]
  },
  {
   "cell_type": "code",
   "execution_count": null,
   "id": "736f1755-3e4e-41e7-8656-bf329c69ef85",
   "metadata": {},
   "outputs": [],
   "source": [
    "Full_name_new"
   ]
  },
  {
   "cell_type": "markdown",
   "id": "a5f7b1dc-b176-4612-b597-d3ce5ac13342",
   "metadata": {},
   "source": [
    "#### $\\color{brown}{\\text{String Comparison}}$"
   ]
  },
  {
   "cell_type": "markdown",
   "id": "3eceb4bd-3d95-42cd-9719-f33dfe8f76df",
   "metadata": {},
   "source": [
    "Strings can be compared using the comparison operator; the double equals sign `==`. Note the comparison operator (double equals `==`) is not the same as the assignment operator, a single equals sign `=`."
   ]
  },
  {
   "cell_type": "code",
   "execution_count": null,
   "id": "9092d4b6-7297-474a-a753-b8aeec2bf45e",
   "metadata": {},
   "outputs": [],
   "source": [
    "name1 = 'Sijan'\n",
    "name2 = 'Sijan'\n",
    "name1 == name2"
   ]
  },
  {
   "cell_type": "code",
   "execution_count": null,
   "id": "fc663245-2f3b-4f0a-b866-348347790794",
   "metadata": {},
   "outputs": [],
   "source": [
    "name1 = 'Bria'\n",
    "name2 = 'Alan'\n",
    "name1 == name2\n"
   ]
  },
  {
   "cell_type": "markdown",
   "id": "a7ca9dad-250b-4a0b-a419-fff9193d3e1e",
   "metadata": {},
   "source": [
    "Capital letters and lower case letters are different characters in Python. A string with the same letters, but different capitalization are not equivalent."
   ]
  },
  {
   "cell_type": "code",
   "execution_count": null,
   "id": "35246e47-201f-4dad-9439-d88080636b29",
   "metadata": {},
   "outputs": [],
   "source": [
    "name1 = 'Sijan'\n",
    "name2 = 'sijan'\n",
    "name1 == name2"
   ]
  },
  {
   "cell_type": "markdown",
   "id": "5666d5de-a17b-4307-9c0c-a5b5799a708f",
   "metadata": {},
   "source": [
    "#### $\\color{brown}{\\text{String Methods}}$"
   ]
  },
  {
   "cell_type": "markdown",
   "id": "c4800869-097c-4147-9ef3-58200e6229fd",
   "metadata": {},
   "source": [
    "$\\textbf{Python String capitalize()}$\n",
    "\n",
    "The `capitalize()` method converts the first character of a string to an uppercase letter and all other alphabets to lowercase."
   ]
  },
  {
   "cell_type": "code",
   "execution_count": null,
   "id": "49ffc476-c291-404b-86eb-42b1883b300b",
   "metadata": {},
   "outputs": [],
   "source": [
    "sentence = 'i love PYTHON'\n",
    "\n",
    "# converts first character to uppercase and others to lowercase\n",
    "capitalized_string = sentence.capitalize()\n",
    "\n",
    "capitalized_string\n",
    "\n",
    "# Output: 'I love python'"
   ]
  },
  {
   "cell_type": "markdown",
   "id": "0c8120e3-4f81-40b9-88f6-cdac59bba95f",
   "metadata": {},
   "source": [
    "The `capitalize()` method returns a new string and doesn't modify the original string."
   ]
  },
  {
   "cell_type": "code",
   "execution_count": null,
   "id": "de705645-f68f-4998-8bc2-7f791bc56f1b",
   "metadata": {},
   "outputs": [],
   "source": [
    "first_name = 'meenakshi'"
   ]
  },
  {
   "cell_type": "code",
   "execution_count": null,
   "id": "c762c456-c157-4d30-81f1-2d35bbcd6dc8",
   "metadata": {},
   "outputs": [],
   "source": [
    "# upper() is used to convert  the string from lowercase letter to Uppercase letter\n",
    "first_name.upper()"
   ]
  },
  {
   "cell_type": "code",
   "execution_count": null,
   "id": "9d2609dc-dae8-4ca6-b916-995288c296d9",
   "metadata": {},
   "outputs": [],
   "source": [
    "last_name = \"NEROLU\""
   ]
  },
  {
   "cell_type": "code",
   "execution_count": null,
   "id": "fd03be84-183b-4ba7-b310-43ed43d9d7a7",
   "metadata": {},
   "outputs": [],
   "source": [
    "# lower() is used to convert the stringfrom uppercase letter to lowercase letter\n",
    "last_name.lower()"
   ]
  },
  {
   "cell_type": "code",
   "execution_count": null,
   "id": "a2bd599d-37f1-49e0-8e53-fb16e1a9ccd3",
   "metadata": {},
   "outputs": [],
   "source": [
    "full_name = 'Meenakshi   Nerolu'"
   ]
  },
  {
   "cell_type": "code",
   "execution_count": null,
   "id": "4ff9b52b-e4fd-45aa-a919-dc857a55cb7e",
   "metadata": {},
   "outputs": [],
   "source": [
    "# Split\n",
    "full_name.split(\"  \")"
   ]
  },
  {
   "cell_type": "markdown",
   "id": "7c8104ef-cb9e-407d-836e-69fa727684c7",
   "metadata": {},
   "source": [
    "## $\\color{green}{\\text{Print Statements}}$"
   ]
  },
  {
   "cell_type": "markdown",
   "id": "bbdf1921-5c79-4e3d-9c63-f06ecd394f8e",
   "metadata": {},
   "source": [
    "One built-in function in Python is `print()`. The value or expression inside of the parenthesis of a `print()` function \"prints\" out to the REPL when the `print()` function is called. An example using the `print()` function is below:"
   ]
  },
  {
   "cell_type": "code",
   "execution_count": null,
   "id": "2d8274d9-268f-40a5-89e4-68084b12d818",
   "metadata": {},
   "outputs": [],
   "source": [
    "name = \"Zoe\"\n",
    "print(\"Your name is: \")\n",
    "print(name)"
   ]
  },
  {
   "cell_type": "markdown",
   "id": "d7a8f461-b40c-490d-be5e-f2007669aa70",
   "metadata": {},
   "source": [
    "Remember that strings must be enclosed by quotation marks. The following command produces an error.\n"
   ]
  },
  {
   "cell_type": "code",
   "execution_count": null,
   "id": "895580df-098f-42a8-aeba-ef3edbec945a",
   "metadata": {},
   "outputs": [],
   "source": [
    "print(Zoe)"
   ]
  },
  {
   "cell_type": "markdown",
   "id": "dd0c4d4a-c6c4-45fa-bd4a-1d3de3035343",
   "metadata": {},
   "source": [
    "Strings can be concatenated (combined) inside of a `print()` statement."
   ]
  },
  {
   "cell_type": "code",
   "execution_count": null,
   "id": "cbd973f5-8a90-4be7-925f-b55cdf22ffbd",
   "metadata": {},
   "outputs": [],
   "source": [
    "name = \"Noor\"\n",
    "print(\"Your name is: \", name)"
   ]
  },
  {
   "cell_type": "code",
   "execution_count": null,
   "id": "2b8eee7d-f953-45b4-94d4-e9e7b9673f84",
   "metadata": {},
   "outputs": [],
   "source": [
    "name = \"Noor\"\n",
    "print(\"Your name is: \"+ name)"
   ]
  },
  {
   "cell_type": "markdown",
   "id": "7ab645a1-45d8-4b15-b89d-4708518747db",
   "metadata": {},
   "source": [
    "The `print()` function also prints out individual expressions one after another with a space in between when the expressions are placed inside the `print()` function and separated by a comma."
   ]
  },
  {
   "cell_type": "code",
   "execution_count": null,
   "id": "ba7e7fef-c19b-49c3-bca8-63c611a51550",
   "metadata": {},
   "outputs": [],
   "source": [
    "print(\"Name:\",\"Elise\",\"Age\", 2+7)"
   ]
  },
  {
   "cell_type": "markdown",
   "id": "455caf14-73ef-49f9-89cd-3ce7ee76e4f8",
   "metadata": {},
   "source": [
    "Notice that the word `print` does not show up the output. Instead, you simply see the result, without the parentheses or quotations for the text string.$\\textbf{You have now used your first Python function -}$ `print()`! Functions in Python are commands that can take inputs that are used to produce output. You will learn more about functions later in the following week, and you will use the `print` function a lot, as it can be very handy for viewing results and for communicating the status of your code."
   ]
  },
  {
   "cell_type": "markdown",
   "id": "11d45ed9-14e5-4a2e-8fb6-e66af14dffed",
   "metadata": {},
   "source": [
    "###  $\\color{magenta}{\\text{More about operators}}$"
   ]
  },
  {
   "cell_type": "markdown",
   "id": "11df567f-9675-409a-b1c7-9d8bb0cfe051",
   "metadata": {},
   "source": [
    "####  $\\color{purple}{\\text{Relational Operators in Python}}$"
   ]
  },
  {
   "cell_type": "markdown",
   "id": "6f4076f7-920f-4d67-9a4c-c41ef5e53f6d",
   "metadata": {},
   "source": [
    "Often in Python, you need to compare two values against each other. To do this, you can check a statement, such as `3 < 4`, and get returned one of two values from Python: `True` or `False`. These are called boolean values and can be very powerful in scripting workflows. A boolean is a value that is either 1 (True), or 0 (False). Like `strings` or `integers`, booleans are their own data type.\n",
    "\n",
    "In Python, there are many relational operations that can be used, including operators for:\n",
    "\n",
    "* equal (`==`)\n",
    "* not equal (`!=`)\n",
    "* greater than (`>`)\n",
    "* greater than or equal to (`>=`)\n",
    "* less than (`<`)\n",
    "* less than or equal (`<=`)"
   ]
  },
  {
   "cell_type": "markdown",
   "id": "95ad8b5b-ac6b-4780-80c3-11498dced6cd",
   "metadata": {},
   "source": [
    "Review the cells below to see what these operations return in different circumstances."
   ]
  },
  {
   "cell_type": "code",
   "execution_count": null,
   "id": "d0cce573-f460-4850-ada5-499830af7a0d",
   "metadata": {},
   "outputs": [],
   "source": [
    "# Is the value 3 less then 4?\n",
    "3 < 4"
   ]
  },
  {
   "cell_type": "code",
   "execution_count": null,
   "id": "63d3e07a-5652-457b-9ead-effdca61ba12",
   "metadata": {},
   "outputs": [],
   "source": [
    "# Is the value 3 greater than 4?\n",
    "3 > 4"
   ]
  },
  {
   "cell_type": "code",
   "execution_count": null,
   "id": "492406d0-3ce0-4d21-8c86-6e1350d215bf",
   "metadata": {},
   "outputs": [],
   "source": [
    "# Does 3 equal 3?\n",
    "3 == 3"
   ]
  },
  {
   "cell_type": "code",
   "execution_count": null,
   "id": "c99976f1-f69f-4c7b-8fa7-466674cf185e",
   "metadata": {},
   "outputs": [],
   "source": [
    "# Does 3 equal 4?\n",
    "3 == 4"
   ]
  },
  {
   "cell_type": "code",
   "execution_count": null,
   "id": "a5cb401a-4330-440a-9e68-bf50ebb030e7",
   "metadata": {},
   "outputs": [],
   "source": [
    "# Does 3 NOT equal 4?\n",
    "3 != 4"
   ]
  },
  {
   "cell_type": "code",
   "execution_count": null,
   "id": "d86765a9-d8c1-4d75-b9a6-524fa31721eb",
   "metadata": {},
   "outputs": [],
   "source": [
    "# Is 3 less than or equal to 4?\n",
    "3 <= 4"
   ]
  },
  {
   "cell_type": "code",
   "execution_count": null,
   "id": "144eded4-ba6e-4885-af95-4613784ea0ae",
   "metadata": {},
   "outputs": [],
   "source": [
    "# Is 3 less than or equal to 3?\n",
    "3 <= 3"
   ]
  },
  {
   "cell_type": "code",
   "execution_count": null,
   "id": "b8f617a9-f480-4910-a5e1-c35dbbf3053c",
   "metadata": {},
   "outputs": [],
   "source": [
    "# Is 3 greater than or equal to 4?\n",
    "3 >= 4"
   ]
  },
  {
   "cell_type": "code",
   "execution_count": null,
   "id": "553b673a-9a92-4adf-a575-71dd11eea749",
   "metadata": {},
   "outputs": [],
   "source": []
  }
 ],
 "metadata": {
  "kernelspec": {
   "display_name": "Python 3 (ipykernel)",
   "language": "python",
   "name": "python3"
  },
  "language_info": {
   "codemirror_mode": {
    "name": "ipython",
    "version": 3
   },
   "file_extension": ".py",
   "mimetype": "text/x-python",
   "name": "python",
   "nbconvert_exporter": "python",
   "pygments_lexer": "ipython3",
   "version": "3.12.4"
  }
 },
 "nbformat": 4,
 "nbformat_minor": 5
}
